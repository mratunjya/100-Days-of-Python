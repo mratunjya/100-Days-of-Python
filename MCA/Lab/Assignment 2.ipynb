{
 "cells": [
  {
   "cell_type": "code",
   "execution_count": 1,
   "id": "6b7b7452",
   "metadata": {},
   "outputs": [],
   "source": [
    "#Comment"
   ]
  },
  {
   "cell_type": "code",
   "execution_count": 8,
   "id": "9b6cde79",
   "metadata": {},
   "outputs": [
    {
     "name": "stdout",
     "output_type": "stream",
     "text": [
      "[2, 3, 5, 7, 11, 13, 17, 19, 23, 29, 31, 37, 41, 43, 47]\n"
     ]
    }
   ],
   "source": [
    "# Prime number list\n",
    "\n",
    "l = []\n",
    "\n",
    "for i in range(2, 51):\n",
    "    c = 0\n",
    "    for j in range(2, i):\n",
    "        if(i % j == 0):\n",
    "            c = c + 1\n",
    "    \n",
    "    if(c == 0):\n",
    "        l.append(i)\n",
    "\n",
    "print(l);"
   ]
  },
  {
   "cell_type": "code",
   "execution_count": 9,
   "id": "9a9809fc",
   "metadata": {},
   "outputs": [
    {
     "name": "stdout",
     "output_type": "stream",
     "text": [
      "Enter the index at which you want to insert an integer: 5\n",
      "Eter the number which you want to insert at 5: 10\n",
      "[2, 3, 5, 7, 11, 10, 13, 17, 19, 23, 29, 31, 37, 41, 43, 47]\n"
     ]
    }
   ],
   "source": [
    "# Insert a number\n",
    "\n",
    "ind = eval(input(\"Enter the index at which you want to insert an integer: \"))\n",
    "n = eval(input(f\"Eter the number which you want to insert at {ind}: \"))\n",
    "l.insert(ind, n)\n",
    "\n",
    "print(l)"
   ]
  },
  {
   "cell_type": "code",
   "execution_count": 11,
   "id": "571ed1af",
   "metadata": {},
   "outputs": [
    {
     "name": "stdout",
     "output_type": "stream",
     "text": [
      "[2, 3, 5, 7, 11, 13, 17, 19, 23, 29, 31, 37, 41, 43, 47]\n"
     ]
    }
   ],
   "source": [
    "# Remoove the Inserted Element\n",
    "\n",
    "l.pop(ind)\n",
    "print(l)"
   ]
  },
  {
   "cell_type": "code",
   "execution_count": 18,
   "id": "a49a04d2",
   "metadata": {},
   "outputs": [
    {
     "name": "stdout",
     "output_type": "stream",
     "text": [
      "[2, 3, 5, 7, 11, 13, 17, 19, 23, 29, 31, 37, 41, 43, 47]\n"
     ]
    }
   ],
   "source": [
    "# Sort the list\n",
    "\n",
    "l.sort()\n",
    "print(l)"
   ]
  },
  {
   "cell_type": "code",
   "execution_count": 19,
   "id": "8bde3204",
   "metadata": {},
   "outputs": [
    {
     "name": "stdout",
     "output_type": "stream",
     "text": [
      "[2, 3, 5, 7, 11, 13, 17, 19, 23, 29, 31, 37, 41, 43]\n"
     ]
    }
   ],
   "source": [
    "# Pop the last element\n",
    "\n",
    "l.pop()\n",
    "print(l)"
   ]
  },
  {
   "cell_type": "code",
   "execution_count": 21,
   "id": "3ae7c5a2",
   "metadata": {},
   "outputs": [
    {
     "name": "stdout",
     "output_type": "stream",
     "text": [
      "[43, 41, 37, 31, 29, 23, 19, 17, 13, 11, 7, 5, 3, 2]\n"
     ]
    }
   ],
   "source": [
    "# Reverse a list\n",
    "\n",
    "l.sort(reverse= True)\n",
    "print(l)"
   ]
  },
  {
   "cell_type": "code",
   "execution_count": 25,
   "id": "91519ac8",
   "metadata": {},
   "outputs": [
    {
     "name": "stdout",
     "output_type": "stream",
     "text": [
      "Largest: 43\n",
      "Second Largest: 41\n"
     ]
    }
   ],
   "source": [
    "# Find Largest and the Second largest number from the list\n",
    "\n",
    "print(f\"Largest: {l[0]}\")\n",
    "print(f\"Second Largest: {l[1]}\")"
   ]
  },
  {
   "cell_type": "code",
   "execution_count": 49,
   "id": "17c23a37",
   "metadata": {},
   "outputs": [
    {
     "name": "stdout",
     "output_type": "stream",
     "text": [
      "['M', 'r', 'a', 't', 'u', 'n', 'j', 'y', 'a', ' ', 'S', 'h', 'a', 'n', 'k', 'h', 'd', 'h', 'a', 'r']\n",
      "No. of vowels 5\n"
     ]
    }
   ],
   "source": [
    "# Count the number of vowels usig list\n",
    "\n",
    "l1 = list(\"Mratunjya Shankhdhar\")\n",
    "print(l1)\n",
    "\n",
    "v = 0\n",
    "\n",
    "for item in l1:\n",
    "    if(item == 'a' or item == 'e' or item == 'i' or item == 'o' or item == 'u' or item == 'A' or item == 'E' or item == 'I' or item == 'O' or item == 'U'):\n",
    "        v = v + 1\n",
    "\n",
    "print(f\"No. of vowels {v}\")"
   ]
  },
  {
   "cell_type": "code",
   "execution_count": null,
   "id": "88ac958c",
   "metadata": {},
   "outputs": [],
   "source": []
  }
 ],
 "metadata": {
  "kernelspec": {
   "display_name": "Python 3 (ipykernel)",
   "language": "python",
   "name": "python3"
  },
  "language_info": {
   "codemirror_mode": {
    "name": "ipython",
    "version": 3
   },
   "file_extension": ".py",
   "mimetype": "text/x-python",
   "name": "python",
   "nbconvert_exporter": "python",
   "pygments_lexer": "ipython3",
   "version": "3.9.12"
  }
 },
 "nbformat": 4,
 "nbformat_minor": 5
}
