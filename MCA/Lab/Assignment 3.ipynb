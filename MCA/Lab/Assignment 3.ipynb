{
 "cells": [
  {
   "cell_type": "code",
   "execution_count": 9,
   "metadata": {},
   "outputs": [],
   "source": [
    "N = set({})\n",
    "P = set({})\n",
    "\n",
    "# Creating Set of Natural Numbers and Prime Numbers\n",
    "\n",
    "for i in range(1, 21):\n",
    "    N.add(i)\n",
    "    if(i > 1):\n",
    "        c = 0\n",
    "        for j in range(2, i):\n",
    "            if(i % j == 0):\n",
    "                c = c + 1\n",
    "                break;\n",
    "\n",
    "    if(c == 0):\n",
    "        P.add(i)"
   ]
  },
  {
   "cell_type": "markdown",
   "metadata": {},
   "source": [
    "# Set Difference"
   ]
  },
  {
   "cell_type": "code",
   "execution_count": 10,
   "metadata": {},
   "outputs": [
    {
     "name": "stdout",
     "output_type": "stream",
     "text": [
      "{1, 4, 6, 8, 9, 10, 12, 14, 15, 16, 18, 20}\n"
     ]
    }
   ],
   "source": [
    "diff = N - P;\n",
    "\n",
    "print(diff)"
   ]
  },
  {
   "cell_type": "markdown",
   "metadata": {},
   "source": [
    "# Intersection of Set"
   ]
  },
  {
   "cell_type": "code",
   "execution_count": 11,
   "metadata": {},
   "outputs": [
    {
     "name": "stdout",
     "output_type": "stream",
     "text": [
      "{2, 3, 5, 7, 11, 13, 17, 19}\n"
     ]
    }
   ],
   "source": [
    "intersection = N & P;\n",
    "\n",
    "print(intersection)"
   ]
  },
  {
   "cell_type": "markdown",
   "metadata": {},
   "source": [
    "# Union"
   ]
  },
  {
   "cell_type": "code",
   "execution_count": 13,
   "metadata": {},
   "outputs": [
    {
     "name": "stdout",
     "output_type": "stream",
     "text": [
      "{1, 2, 3, 4, 5, 6, 7, 8, 9, 10, 11, 12, 13, 14, 15, 16, 17, 18, 19, 20}\n"
     ]
    }
   ],
   "source": [
    "union = N | P\n",
    "\n",
    "print(union)"
   ]
  },
  {
   "cell_type": "markdown",
   "metadata": {},
   "source": [
    "# Count Vowels"
   ]
  },
  {
   "cell_type": "code",
   "execution_count": 30,
   "metadata": {},
   "outputs": [
    {
     "name": "stdout",
     "output_type": "stream",
     "text": [
      "5\n"
     ]
    }
   ],
   "source": [
    "S = set(list(\"National Institute of Technology, Raipur\".lower()))\n",
    "c = 0\n",
    "\n",
    "for ch in S:\n",
    "    if ch == 'a' or ch == 'e' or ch == 'i' or ch == 'o' or ch == 'u':\n",
    "        c += 1\n",
    "\n",
    "print(c)"
   ]
  },
  {
   "cell_type": "markdown",
   "metadata": {},
   "source": [
    "# Convert List into Set and Tuple"
   ]
  },
  {
   "cell_type": "code",
   "execution_count": 21,
   "metadata": {},
   "outputs": [
    {
     "name": "stdout",
     "output_type": "stream",
     "text": [
      "{2, 6, 7, 8, 9}\n",
      "(2, 9, 8, 7, 2, 6, 8, 2, 6)\n"
     ]
    }
   ],
   "source": [
    "L = [2, 9, 8, 7, 2, 6, 8, 2, 6]\n",
    "\n",
    "LtoS = set(L)\n",
    "LtoT = tuple(L)\n",
    "\n",
    "print(LtoS)\n",
    "print(LtoT)"
   ]
  },
  {
   "cell_type": "markdown",
   "metadata": {},
   "source": [
    "# Minimum and Maximum in LtoS"
   ]
  },
  {
   "cell_type": "code",
   "execution_count": 24,
   "metadata": {},
   "outputs": [
    {
     "name": "stdout",
     "output_type": "stream",
     "text": [
      "2\n",
      "9\n"
     ]
    }
   ],
   "source": [
    "print(min(LtoS))\n",
    "print(max(LtoS))"
   ]
  },
  {
   "cell_type": "markdown",
   "metadata": {},
   "source": [
    "# Remove Element from LtoS"
   ]
  },
  {
   "cell_type": "code",
   "execution_count": 31,
   "metadata": {},
   "outputs": [
    {
     "name": "stdout",
     "output_type": "stream",
     "text": [
      "set()\n"
     ]
    }
   ],
   "source": [
    "LtoS.clear\n",
    "print(LtoS)"
   ]
  },
  {
   "cell_type": "markdown",
   "metadata": {},
   "source": [
    "# Paragram OR Not"
   ]
  },
  {
   "cell_type": "code",
   "execution_count": 36,
   "metadata": {},
   "outputs": [
    {
     "name": "stdout",
     "output_type": "stream",
     "text": [
      "{'l', 'm', 'e', 'd', 'y', 'I', 'g', 'H', 'b', 'o', 'a'}\n",
      "NOT a Paragram String\n"
     ]
    }
   ],
   "source": [
    "givenString = \"Hello, I'm a good boy\"\n",
    "givenString = givenString.replace(' ', '').replace(',', '').replace(\"'\", \"\")\n",
    "\n",
    "givenString = set(givenString)\n",
    "print(givenString)\n",
    "\n",
    "if len(givenString) == 26:\n",
    "    print(\"Paragram String\")\n",
    "else:\n",
    "    print(\"NOT a Paragram String\")\n"
   ]
  },
  {
   "cell_type": "code",
   "execution_count": null,
   "metadata": {},
   "outputs": [],
   "source": []
  }
 ],
 "metadata": {
  "kernelspec": {
   "display_name": "Python 3.10.5 64-bit",
   "language": "python",
   "name": "python3"
  },
  "language_info": {
   "codemirror_mode": {
    "name": "ipython",
    "version": 3
   },
   "file_extension": ".py",
   "mimetype": "text/x-python",
   "name": "python",
   "nbconvert_exporter": "python",
   "pygments_lexer": "ipython3",
   "version": "3.10.5"
  },
  "orig_nbformat": 4,
  "vscode": {
   "interpreter": {
    "hash": "6725b65d2bc9b383de4e8ea8d550ee3e56f84680ef7bf6138363b00cd2ed30f8"
   }
  }
 },
 "nbformat": 4,
 "nbformat_minor": 2
}
